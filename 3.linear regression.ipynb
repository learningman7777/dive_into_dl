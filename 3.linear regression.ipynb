{
 "cells": [
  {
   "cell_type": "markdown",
   "metadata": {
    "pycharm": {
     "name": "#%% md\n"
    }
   },
   "source": [
    "Regression problems pop up whenever we want to predict a numerical value. Common examples include predicting prices (of homes, stocks, etc.), predicting the length of stay (for patients in the hospital), forecasting demand (for retail sales), among countless others. Not every prediction problem is a classic regression problem. Later on, we will introduce classification problems, where the goal is to predict membership among a set of categories.\n",
    "\n",
    "Regression 문제는 숫자 값을 예측하려고 할 때마다 나타납니다. 일반적인 예로는 가격 예측(주택, 주식 등), 입원 기간 예측(병원에 입원한 환자의 경우), 수요 예측(소매 판매) 등이 있습니다. 모든 예측 문제가 classic regression problem은 아닙니다. classification문제도 있습니다."
   ]
  },
  {
   "cell_type": "markdown",
   "metadata": {},
   "source": [
    "As a running example, suppose that we wish to estimate the prices of houses (in dollars) based on their area (in square feet) and age (in years). To develop a model for predicting house prices, we need to get our hands on data consisting of sales, including the sales price, area, and age for each home. In the terminology of machine learning, the dataset is called a *training dataset* or *training set*, and each row (containing the data corresponding to one sale) is called an *example* (or *data point*, *instance*, *sample*). The thing we are trying to predict (price) is called a *label* (or *target*). The variables (age and area) upon which the predictions are based are called *features* (or *covariates*).\n",
    "\n",
    "예를 들어 면적(피트제곱)과 연식(년)에 따라 주택 가격(달러)을 추정한다고 가정합니다. 주택 가격 예측 모델을 개발하기 위해서는 각 주택의 판매 가격, 면적, 연식 등 판매로 구성된 데이터를 손에 넣어야 합니다. 머신 러닝 용어로 데이터 세트를 **training set**라고 하고 각 행(하나의 판매에 해당하는 데이터를 포함)을 **example(또는 data point , instance, sample)**라고 합니다. 우리가 예측하려고 하는 것(가격)을 **label(또는 target)** 이라고 합니다. 예측의 기반이 되는 변수(연식 및 면적)를 **feature (또는 covariates**)이라고 합니다."
   ]
  },
  {
   "cell_type": "markdown",
   "metadata": {},
   "source": [
    "Linear regression은 regression문제를 해결하기 위한 간단하고 가장 유명한 표준 도구입니다. 19세기 초로 거슬러 올라가면 선형 회귀는 몇가지 가정에서 나옵니다. 첫째로, feature x와 target y의 관계가 근사 linear라고 가정합니다. 즉, E[Y | X = **x**]의 조건부 평균은 feature **x**의 weighted sum으로 표현될 수 있습니다. 이 설정은 observation noise로 인해 목표 값이 예상 값에서 여전히 벗어날 수 있는 가능성이 있습니다. 그래서 다음으로, 우리는 Gaussian distribution에 따라 그러한 noise가 잘 작동한다는 가정을 추가할 수 있습니다. 일반적으로 데이터 세트의 examples 수를 n으로 표시합니다. 위 첨자를 사용하여 샘플과 대상을 열거하고 아래 첨자를 사용하여 좌표를 인덱싱합니다."
   ]
  },
  {
   "cell_type": "markdown",
   "metadata": {},
   "source": [
    "$x_i^j$에서 "
   ]
  },
  {
   "cell_type": "code",
   "execution_count": null,
   "metadata": {},
   "outputs": [],
   "source": []
  }
 ],
 "metadata": {
  "kernelspec": {
   "display_name": "Python 3 (ipykernel)",
   "language": "python",
   "name": "python3"
  },
  "language_info": {
   "codemirror_mode": {
    "name": "ipython",
    "version": 3
   },
   "file_extension": ".py",
   "mimetype": "text/x-python",
   "name": "python",
   "nbconvert_exporter": "python",
   "pygments_lexer": "ipython3",
   "version": "3.8.12"
  }
 },
 "nbformat": 4,
 "nbformat_minor": 4
}
